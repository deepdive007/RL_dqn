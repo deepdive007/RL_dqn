{
 "cells": [
  {
   "cell_type": "code",
   "execution_count": 47,
   "metadata": {
    "collapsed": true
   },
   "outputs": [],
   "source": [
    "import time\n",
    "import numpy as np\n",
    "import tkinter as tk\n",
    "from PIL import ImageTk, Image\n",
    "import matplotlib.pyplot as plt\n",
    "from matplotlib.collections import LineCollection"
   ]
  },
  {
   "cell_type": "code",
   "execution_count": 48,
   "metadata": {
    "collapsed": true
   },
   "outputs": [],
   "source": [
    "np.random.seed(1)"
   ]
  },
  {
   "cell_type": "code",
   "execution_count": 76,
   "metadata": {
    "collapsed": true
   },
   "outputs": [],
   "source": [
    "class Env(tk.Tk):\n",
    "    def __init__(self,img, goal_state):\n",
    "        \n",
    "        super(Env, self).__init__()\n",
    "        self.shape = img.shape###############################\n",
    "        self.action_space = ['u', 'd', 'l', 'r']\n",
    "        self.action_size = len(self.action_space)\n",
    "        self.title('DeepQNetwork')\n",
    "        self.counter = 0\n",
    "        self.build_image(img,goal_state)\n",
    "        \n",
    "\n",
    "    def build_image(self,img,goal_state):\n",
    "        \n",
    "        self.rewards = list()\n",
    "        self.goal = list()\n",
    "        \n",
    "        self.set_rewards(img,goal_state)\n",
    "    \n",
    "    \n",
    "    def set_rewards(self,img,goal_state):\n",
    "        \n",
    "        nS = np.prod(self.shape)\n",
    "        nA = self.action_size\n",
    "\n",
    "        MAX_Y = self.shape[0]\n",
    "        MAX_X = self.shape[1]\n",
    "\n",
    "        P = {}\n",
    "        Q = np.zeros((nS, nA), dtype = float)\n",
    "        \n",
    "        grid = np.arange(nS).reshape(self.shape)\n",
    "#         print(\"grid = \",grid)\n",
    "        it = np.nditer(grid, flags=['multi_index'])\n",
    "\n",
    "        while not it.finished:\n",
    "            s = it.iterindex\n",
    "            y, x = it.multi_index\n",
    "#             print(\"y, x = \",y, x)\n",
    "\n",
    "            P[s] = {self.action_space[a] : [] for a in range(nA)}\n",
    "#             print(\"P[s] = \",P[s])\n",
    "            is_done = lambda s: s == (final_state) # give final state here\n",
    "            if is_done(s):\n",
    "                reward = 100.0 \n",
    "\n",
    "            # We're stuck in a terminal state\n",
    "            if is_done(s):\n",
    "                P[s][self.action_space[0]] = [( s, reward, True)]\n",
    "                P[s][self.action_space[3]] = [( s, reward, True)]\n",
    "                P[s][self.action_space[1]] = [( s, reward, True)]\n",
    "                P[s][self.action_space[2]] = [( s, reward, True)]\n",
    "            # Not a terminal state\n",
    "            else:\n",
    "                ns_up = s if y == 0 else s - MAX_X\n",
    "                reward_up = self.find_reward(img,s, ns_up,MAX_Y,MAX_X,final_state)\n",
    "                \n",
    "                ns_right = s if x == (MAX_X - 1) else s + 1\n",
    "                reward_right = self.find_reward(img,s, ns_right,MAX_Y,MAX_X,final_state)\n",
    "                \n",
    "                ns_down = s if y == (MAX_Y - 1) else s + MAX_X\n",
    "                reward_down = self.find_reward(img,s, ns_down,MAX_Y,MAX_X,final_state)\n",
    "                \n",
    "                ns_left = s if x == 0 else s - 1\n",
    "                reward_left = self.find_reward(img,s, ns_left,MAX_Y,MAX_X,final_state)\n",
    "                \n",
    "                P[s][self.action_space[0]] = [( ns_up, reward_up, is_done(ns_up))]\n",
    "                P[s][self.action_space[3]] = [( ns_right, reward_right, is_done(ns_right))]\n",
    "                P[s][self.action_space[1]] = [( ns_down, reward_down, is_done(ns_down))]\n",
    "                P[s][self.action_space[2]] = [( ns_left, reward_left, is_done(ns_left))]\n",
    "\n",
    "            it.iternext()\n",
    "        \n",
    "        \n",
    "        \n",
    "        \n",
    "        \n",
    "        "
   ]
  },
  {
   "cell_type": "code",
   "execution_count": null,
   "metadata": {
    "collapsed": true
   },
   "outputs": [],
   "source": []
  },
  {
   "cell_type": "code",
   "execution_count": 77,
   "metadata": {},
   "outputs": [
    {
     "name": "stdout",
     "output_type": "stream",
     "text": [
      "img.shape =  (64, 64)\n"
     ]
    },
    {
     "data": {
      "image/png": "[encoded data removed]",
      "text/plain": [
       "<Figure size 432x288 with 1 Axes>"
      ]
     },
     "metadata": {},
     "output_type": "display_data"
    },
    {
     "data": {
      "image/png": "[encoded data removed]",
      "text/plain": [
       "<Figure size 432x288 with 1 Axes>"
      ]
     },
     "metadata": {},
     "output_type": "display_data"
    }
   ],
   "source": [
    "import cv2\n",
    "img = cv2.imread(\"input_img_2_char.png\",0)\n",
    "print(\"img.shape = \",img.shape)\n",
    "plt.imshow(img)\n",
    "plt.show()\n",
    "plt.imshow(img[24:26,24:26])#img[13:45,13:45]\n",
    "plt.show()\n",
    "IMG = img[24:26,24:26]\n",
    "env = Env(IMG, 3,[IMG.shape[0],IMG.shape[1]])\n",
    "# print(\"env.shape,env.action_space,env.action_size, env.title\",env.shape,env.action_space,env.action_size, env.title)\n",
    "env.set_rewards(IMG ,env.final_state)"
   ]
  },
  {
   "cell_type": "code",
   "execution_count": 78,
   "metadata": {
    "collapsed": true
   },
   "outputs": [],
   "source": [
    "# env.P, env.Q"
   ]
  },
  {
   "cell_type": "code",
   "execution_count": null,
   "metadata": {
    "collapsed": true
   },
   "outputs": [],
   "source": []
  },
  {
   "cell_type": "code",
   "execution_count": null,
   "metadata": {
    "collapsed": true
   },
   "outputs": [],
   "source": []
  }
 ],
 "metadata": {
  "kernelspec": {
   "display_name": "Python [conda env:Anaconda3]",
   "language": "python",
   "name": "conda-env-Anaconda3-py"
  },
  "language_info": {
   "codemirror_mode": {
    "name": "ipython",
    "version": 3
   },
   "file_extension": ".py",
   "mimetype": "text/x-python",
   "name": "python",
   "nbconvert_exporter": "python",
   "pygments_lexer": "ipython3",
   "version": "3.6.1"
  }
 },
 "nbformat": 4,
 "nbformat_minor": 2
}
